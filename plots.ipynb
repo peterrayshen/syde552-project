{
 "cells": [
  {
   "cell_type": "code",
   "execution_count": 50,
   "metadata": {},
   "outputs": [],
   "source": [
    "import pandas as pd\n",
    "import pickle \n",
    "import numpy as np \n",
    "import matplotlib.pyplot as plt\n",
    "import seaborn as sns"
   ]
  },
  {
   "cell_type": "code",
   "execution_count": 51,
   "metadata": {},
   "outputs": [],
   "source": [
    "with open('results/learn_curve_xp_type_tau_uniform.pkl', 'rb') as f:\n",
    "    res_uniform_tau = pickle.load(f)\n",
    "\n",
    "with open('results/learn_curve_xp_type_tau_constant.pkl', 'rb') as f:\n",
    "    res_constant_tau = pickle.load(f)"
   ]
  },
  {
   "cell_type": "markdown",
   "metadata": {},
   "source": [
    "#### Figure 1: Loss function per epoch and training and validation sets"
   ]
  },
  {
   "cell_type": "code",
   "execution_count": 18,
   "metadata": {},
   "outputs": [
    {
     "data": {
      "image/png": "[encoded data removed]",
      "text/plain": [
       "<Figure size 504x360 with 1 Axes>"
      ]
     },
     "metadata": {
      "needs_background": "light"
     },
     "output_type": "display_data"
    }
   ],
   "source": [
    "# uniform tau xp\n",
    "loss_train = np.array(res_constant_tau[0]['loss_supervised_train']) + np.array(res_constant_tau[0]['loss_reg_train'])\n",
    "loss_valid = np.array(res_constant_tau[0]['loss_supervised_valid']) + np.array(res_constant_tau[0]['loss_reg_valid'])\n",
    "plt.figure(figsize=(7, 5))\n",
    "plt.plot(np.arange(1, len(loss_train)+1), loss_train, label='training')\n",
    "plt.plot(np.arange(1, len(loss_valid)+1), loss_valid, label='validation')\n",
    "plt.ylabel('Loss')\n",
    "plt.xlabel('Epoch')\n",
    "plt.legend()\n",
    "plt.show()"
   ]
  },
  {
   "cell_type": "markdown",
   "metadata": {},
   "source": [
    "#### Figure 2: Accuracy of model with time constants generated from a random uniform distribution with increasing bounds"
   ]
  },
  {
   "cell_type": "code",
   "execution_count": 86,
   "metadata": {},
   "outputs": [
    {
     "data": {
      "text/plain": [
       "<seaborn.axisgrid.FacetGrid at 0x1ee25971ac0>"
      ]
     },
     "execution_count": 86,
     "metadata": {},
     "output_type": "execute_result"
    },
    {
     "data": {
      "image/png": "[encoded data removed]",
      "text/plain": [
       "<Figure size 492.125x432 with 1 Axes>"
      ]
     },
     "metadata": {
      "needs_background": "light"
     },
     "output_type": "display_data"
    }
   ],
   "source": [
    "df = pd.DataFrame()\n",
    "df['test'] = [x['acc_test'] for x in res_uniform_tau]\n",
    "df['train'] = [x['acc_train'][-1] for x in res_uniform_tau]\n",
    "df['valid'] = [x['acc_valid'][-1] for x in res_uniform_tau]\n",
    "df['lower'] = [x['xp_params']['uniform_lower_bounds'][x['i']] for x in res_uniform_tau]\n",
    "df['upper'] = [x['xp_params']['uniform_upper_bounds'][x['i']] for x in res_uniform_tau]\n",
    "df['width'] = (round((df['upper'] - df['lower']) * 1e3)).astype(int)\n",
    "df = df.melt(id_vars=['width'], value_vars=['train', 'valid', 'test'], value_name='acc')\n",
    "\n",
    "g = sns.catplot(\n",
    "    data=df, kind=\"bar\",\n",
    "    x=\"width\", y=\"acc\", hue='variable',\n",
    "    ci=\"sd\", palette=\"dark\", alpha=.6, height=6\n",
    ")\n",
    "g.legend.set_title('')\n",
    "g.set_axis_labels(\"Interval Range [ms]\", \"Accuracy\")"
   ]
  },
  {
   "cell_type": "markdown",
   "metadata": {},
   "source": [
    "#### Figure 3: Accuracy of model with time constants generated from a normal distribution with increasing variance"
   ]
  },
  {
   "cell_type": "code",
   "execution_count": null,
   "metadata": {},
   "outputs": [],
   "source": []
  },
  {
   "cell_type": "markdown",
   "metadata": {},
   "source": [
    "#### Figure 4: Accuracy of model with increasing homogenous time constants"
   ]
  },
  {
   "cell_type": "code",
   "execution_count": 54,
   "metadata": {},
   "outputs": [
    {
     "data": {
      "text/plain": [
       "dict_keys(['w1', 'w2', 'v1', 'weight_scale', 'xp_type', 'xp_params', 'i', 'gen_distribution_tau', 'gen_distribution_beta', 'alpha', 'beta_readout', 'nb_inputs', 'nb_hidden', 'nb_outputs', 'time_step', 'nb_steps', 'max_time', 'batch_size', 'tau_mem_readout', 'tau_syn', 'lr', 'loss_supervised_train', 'loss_supervised_valid', 'loss_reg_train', 'loss_reg_valid', 'acc_test', 'acc_train', 'acc_valid', 'output', 'mem_rec', 'spk_rec'])"
      ]
     },
     "execution_count": 54,
     "metadata": {},
     "output_type": "execute_result"
    }
   ],
   "source": [
    "res_uniform_tau[0].keys()"
   ]
  },
  {
   "cell_type": "code",
   "execution_count": null,
   "metadata": {},
   "outputs": [
    {
     "data": {
      "text/plain": [
       "numpy.ndarray"
      ]
     },
     "execution_count": 56,
     "metadata": {},
     "output_type": "execute_result"
    }
   ],
   "source": [
    "type(spk_rec[0]['output'])"
   ]
  },
  {
   "cell_type": "code",
   "execution_count": 22,
   "metadata": {},
   "outputs": [
    {
     "data": {
      "text/plain": [
       "{'constant_tau': array([0.02, 0.04, 0.06, 0.08]), 'num_xps': 4}"
      ]
     },
     "execution_count": 22,
     "metadata": {},
     "output_type": "execute_result"
    }
   ],
   "source": [
    "res_uniform_tau[0]['xp_params']['con']"
   ]
  },
  {
   "cell_type": "code",
   "execution_count": null,
   "metadata": {},
   "outputs": [],
   "source": []
  }
 ],
 "metadata": {
  "interpreter": {
   "hash": "f975599b7e9c9973bef0d9ec48ecea55a0d1d2fd74b2454f9f55119bbb3ec555"
  },
  "kernelspec": {
   "display_name": "Python 3.9.12 ('syde552gpu')",
   "language": "python",
   "name": "python3"
  },
  "language_info": {
   "codemirror_mode": {
    "name": "ipython",
    "version": 3
   },
   "file_extension": ".py",
   "mimetype": "text/x-python",
   "name": "python",
   "nbconvert_exporter": "python",
   "pygments_lexer": "ipython3",
   "version": "3.9.12"
  },
  "orig_nbformat": 4
 },
 "nbformat": 4,
 "nbformat_minor": 2
}
